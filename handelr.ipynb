{
 "cells": [
  {
   "cell_type": "code",
   "execution_count": 1,
   "metadata": {},
   "outputs": [
    {
     "name": "stderr",
     "output_type": "stream",
     "text": [
      "Cloning into 'Lab4-Adding-Discovery-to-Chatbot'...\n"
     ]
    }
   ],
   "source": [
    "%%bash\n",
    "mkdir lab4\n",
    "cd lab4\n",
    "git clone https://github.com/sophiajwchoi/Lab4-Adding-Discovery-to-Chatbot.git"
   ]
  },
  {
   "cell_type": "markdown",
   "metadata": {},
   "source": [
    "#### At this point, you should see a folder (lab4) listed in the files directory in the left-sidebar of the JupyterLab environment. If this side menu is hidden, you can go to View>View Left-Sidebar. Select the lab4 and click on the  Lab4-Adding-Discovery-to-Chatbot subfolder. You will see a file called serverless.yml."
   ]
  },
  {
   "cell_type": "markdown",
   "metadata": {},
   "source": [
    "#### Replace the value of YOUR_USERNAME to \"apikey\", YOUR_DISCOVERY_PASSWORD to the API key from your Discovery service. Similarly, replace the values of ENVIRONMENT_ID and COLLECTION_ID with the values obtained earlier above. Replace the value of YOUR_DISCOVERY_URL with the url we obtained earlier. URL is location specific."
   ]
  },
  {
   "cell_type": "code",
   "execution_count": null,
   "metadata": {},
   "outputs": [],
   "source": [
    "%%bash\n",
    "cd /resources/lab4/Lab4-Adding-Discovery-to-Chatbot\n",
    "export npm_config_loglevel=silent\n",
    "conda config --set notify_outdated_conda false\n",
    "conda install nodejs -y\n",
    "rm -f ~/.npmrc\n",
    "npm install"
   ]
  },
  {
   "cell_type": "markdown",
   "metadata": {},
   "source": [
    "#### Next you will login to your IBM Cloud account with your IBM Cloud email and password. Please ensure that you are logged in before running lines starting with ibmcloud. To login to your account, Create a new cell (as detailed earlier) and copy the below lines exactly in the cell you created. Replace YOUR_IBMCLOUD_EMAIL with your IBM Cloud email and YOUR_IBMCLOUD_PASSWORD with your password. Finally, run the cell, by pressing the play button (as mentioned earlier above). It may take a few minutes to finish. Please run the cell once. Please proceed to next step if you have successfully logged in without an error message."
   ]
  },
  {
   "cell_type": "code",
   "execution_count": null,
   "metadata": {},
   "outputs": [],
   "source": [
    "%%bash\n",
    "ibmcloud config --check-version=false\n",
    "ibmcloud login --no-region\n",
    "YOUR_IBMCLOUD_EMAIL\n",
    "YOUR_IBMCLOUD_PASSWORD"
   ]
  },
  {
   "cell_type": "code",
   "execution_count": null,
   "metadata": {},
   "outputs": [],
   "source": [
    "%%bash\n",
    "ibmcloud account orgs"
   ]
  },
  {
   "cell_type": "markdown",
   "metadata": {},
   "source": [
    "#### Copy the lines below exactly in the new cell and replace REGION with region and Name_OF_ORG with the name of org you obtained above. If you are re-doing this step, please remove `ibmcloud account space-create 'lab4'` because you already created the space and it would give an error."
   ]
  },
  {
   "cell_type": "code",
   "execution_count": null,
   "metadata": {},
   "outputs": [],
   "source": [
    "%%bash\n",
    "ibmcloud target --cf-api 'https://api.REGION.cf.cloud.ibm.com' -r REGION -o NAME_OF_ORG\n",
    "ibmcloud account space-create 'lab4'"
   ]
  },
  {
   "cell_type": "markdown",
   "metadata": {},
   "source": [
    "#### replace REGION (in line numbers 7 and 8) with region you obtained above"
   ]
  },
  {
   "cell_type": "code",
   "execution_count": null,
   "metadata": {},
   "outputs": [],
   "source": [
    "%%bash\n",
    "cd /resources/lab4/Lab4-Adding-Discovery-to-Chatbot\n",
    "ibmcloud target -s lab4\n",
    "ibmcloud plugin install cloud-functions -f\n",
    "export npm_config_loglevel=silent\n",
    "npm install -g serverless@1.51.0\n",
    "ibmcloud fn --apihost REGION.functions.cloud.ibm.com\n",
    "ibmcloud fn list --apihost REGION.functions.cloud.ibm.com\n",
    "serverless deploy\n"
   ]
  },
  {
   "cell_type": "code",
   "execution_count": null,
   "metadata": {},
   "outputs": [],
   "source": [
    "!ibmcloud fn list"
   ]
  },
  {
   "cell_type": "markdown",
   "metadata": {},
   "source": [
    "## Another Part"
   ]
  },
  {
   "cell_type": "code",
   "execution_count": null,
   "metadata": {},
   "outputs": [],
   "source": [
    "!pip install ibm_watson bs4"
   ]
  },
  {
   "cell_type": "code",
   "execution_count": null,
   "metadata": {},
   "outputs": [],
   "source": [
    "import os\n",
    "from glob import glob\n",
    "from bs4 import BeautifulSoup\n",
    "import IPython\n",
    "from ibm_cloud_sdk_core.authenticators import IAMAuthenticator\n",
    "from ibm_watson import SpeechToTextV1\n",
    "from ibm_watson import AssistantV2\n",
    "from ibm_watson import TextToSpeechV1"
   ]
  },
  {
   "cell_type": "markdown",
   "metadata": {},
   "source": [
    "#### Copy your Speech to text API detalis and change YOUR_APIKEY, YOUR_ENDPOINT"
   ]
  },
  {
   "cell_type": "code",
   "execution_count": null,
   "metadata": {},
   "outputs": [],
   "source": [
    "recognition_service = SpeechToTextV1(IAMAuthenticator('{YOUR_APIKEY}'))\n",
    "recognition_service.set_service_url('{YOUR_ENDPOINT}')\n",
    "SPEECH_EXTENSION = \"*.webm\"\n",
    "SPEECH_AUDIOTYPE = \"audio/webm\"\n",
    "\n",
    "def recognize_audio():\n",
    "    while len(glob(SPEECH_EXTENSION)) == 0:\n",
    "        pass\n",
    "    filename = glob(SPEECH_EXTENSION)[0]\n",
    "    audio_file = open(filename, \"rb\")\n",
    "    os.popen(\"rm \" + filename)\n",
    "    result = recognition_service.recognize(audio=audio_file, content_type=SPEECH_AUDIOTYPE).get_result()\n",
    "    return result[\"results\"][0][\"alternatives\"][0][\"transcript\"]"
   ]
  },
  {
   "cell_type": "markdown",
   "metadata": {},
   "source": [
    "#### Copy your Assistant API detalis and change YOUR_APIKEY, YOUR_ENDPOINT and YOUR_ASSISTANT_ID"
   ]
  },
  {
   "cell_type": "code",
   "execution_count": null,
   "metadata": {},
   "outputs": [],
   "source": [
    "assistant = AssistantV2(version='2019-02-28', authenticator=IAMAuthenticator('{YOUR_APIKEY}'))\n",
    "assistant.set_service_url('{YOUR_ENDPOINT}')\n",
    "ASSISTANT_ID = \"{YOUR_ASSISTANT_ID}\"\n",
    "session_id = assistant.create_session(assistant_id=ASSISTANT_ID).get_result()[\"session_id\"]\n",
    "\n",
    "def message_assistant(text):\n",
    "    response = assistant.message(assistant_id=ASSISTANT_ID,\n",
    "                                 session_id=session_id,\n",
    "                                 input={'message_type': 'text', 'text': text}).get_result()\n",
    "    return BeautifulSoup(response[\"output\"][\"generic\"][0][\"text\"]).get_text()"
   ]
  },
  {
   "cell_type": "markdown",
   "metadata": {},
   "source": [
    "#### Copy your Text to Speech API detalis and change YOUR_APIKEY, YOUR_ENDPOINT"
   ]
  },
  {
   "cell_type": "code",
   "execution_count": null,
   "metadata": {},
   "outputs": [],
   "source": [
    "synthesis_service = TextToSpeechV1(IAMAuthenticator('{YOUR_APIKEY}'))\n",
    "synthesis_service.set_service_url('{YOUR_ENDPOINT}')\n",
    "\n",
    "def speak_text(text):\n",
    "    with open('temp.wav', 'wb') as audio_file:\n",
    "        response = synthesis_service.synthesize(text, accept='audio/wav', voice=\"en-US_AllisonV3Voice\").get_result()\n",
    "        audio_file.write(response.content)\n",
    "    return IPython.display.Audio(\"temp.wav\", autoplay=True)"
   ]
  },
  {
   "cell_type": "code",
   "execution_count": null,
   "metadata": {},
   "outputs": [],
   "source": [
    "speak_text(message_assistant(recognize_audio()))"
   ]
  }
 ],
 "metadata": {
  "kernelspec": {
   "display_name": "Python",
   "language": "python",
   "name": "conda-env-python-py"
  },
  "language_info": {
   "codemirror_mode": {
    "name": "ipython",
    "version": 3
   },
   "file_extension": ".py",
   "mimetype": "text/x-python",
   "name": "python",
   "nbconvert_exporter": "python",
   "pygments_lexer": "ipython3",
   "version": "3.6.10"
  }
 },
 "nbformat": 4,
 "nbformat_minor": 4
}
